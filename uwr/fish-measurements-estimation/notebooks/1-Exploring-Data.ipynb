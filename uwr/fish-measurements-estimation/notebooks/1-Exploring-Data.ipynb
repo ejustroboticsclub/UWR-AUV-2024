{
 "cells": [
  {
   "cell_type": "markdown",
   "id": "db33b846",
   "metadata": {},
   "source": [
    "## Importing Packages"
   ]
  },
  {
   "cell_type": "code",
   "execution_count": 57,
   "id": "bbcf27ee",
   "metadata": {},
   "outputs": [],
   "source": [
    "import pandas as pd\n",
    "import os\n",
    "import cv2"
   ]
  },
  {
   "cell_type": "markdown",
   "id": "76aa0711",
   "metadata": {},
   "source": [
    "## --------------------------------------------------------------------------------------------------------------------------"
   ]
  },
  {
   "cell_type": "markdown",
   "id": "2e26954c",
   "metadata": {},
   "source": [
    "## Exploring the CSV file"
   ]
  },
  {
   "cell_type": "code",
   "execution_count": 2,
   "id": "3c391c2a",
   "metadata": {},
   "outputs": [],
   "source": [
    "data = pd.read_csv(\"../data/external/size_estimation_homography_DeepFish.csv\")"
   ]
  },
  {
   "cell_type": "code",
   "execution_count": 3,
   "id": "7a2e02fd",
   "metadata": {
    "scrolled": true
   },
   "outputs": [
    {
     "data": {
      "text/html": [
       "<div>\n",
       "<style scoped>\n",
       "    .dataframe tbody tr th:only-of-type {\n",
       "        vertical-align: middle;\n",
       "    }\n",
       "\n",
       "    .dataframe tbody tr th {\n",
       "        vertical-align: top;\n",
       "    }\n",
       "\n",
       "    .dataframe thead th {\n",
       "        text-align: right;\n",
       "    }\n",
       "</style>\n",
       "<table border=\"1\" class=\"dataframe\">\n",
       "  <thead>\n",
       "    <tr style=\"text-align: right;\">\n",
       "      <th></th>\n",
       "      <th>index</th>\n",
       "      <th>file</th>\n",
       "      <th>bbox</th>\n",
       "      <th>class</th>\n",
       "      <th>size (cm)</th>\n",
       "    </tr>\n",
       "  </thead>\n",
       "  <tbody>\n",
       "    <tr>\n",
       "      <th>0</th>\n",
       "      <td>0</td>\n",
       "      <td>26_05_21-B20</td>\n",
       "      <td>[2272.628996958517, 1685.2591150516498, 837.97...</td>\n",
       "      <td>Sepia officinalis</td>\n",
       "      <td>8.435085</td>\n",
       "    </tr>\n",
       "    <tr>\n",
       "      <th>1</th>\n",
       "      <td>1</td>\n",
       "      <td>26_05_21-B25</td>\n",
       "      <td>[1807.393678506843, 1585.7146585117644, 1094.7...</td>\n",
       "      <td>Mullus barbatus</td>\n",
       "      <td>16.211420</td>\n",
       "    </tr>\n",
       "    <tr>\n",
       "      <th>2</th>\n",
       "      <td>2</td>\n",
       "      <td>26_05_21-B25</td>\n",
       "      <td>[2648.726235342625, 1368.0723135423739, 345.68...</td>\n",
       "      <td>Mullus barbatus</td>\n",
       "      <td>14.422977</td>\n",
       "    </tr>\n",
       "    <tr>\n",
       "      <th>3</th>\n",
       "      <td>3</td>\n",
       "      <td>26_05_21-B25</td>\n",
       "      <td>[2845.1096085383197, 1180.704037335252, 426.91...</td>\n",
       "      <td>Mullus barbatus</td>\n",
       "      <td>15.604945</td>\n",
       "    </tr>\n",
       "    <tr>\n",
       "      <th>4</th>\n",
       "      <td>4</td>\n",
       "      <td>26_05_21-B25</td>\n",
       "      <td>[3192.0335090997633, 1235.4288323372514, 337.1...</td>\n",
       "      <td>Mullus barbatus</td>\n",
       "      <td>14.829357</td>\n",
       "    </tr>\n",
       "  </tbody>\n",
       "</table>\n",
       "</div>"
      ],
      "text/plain": [
       "   index          file                                               bbox  \\\n",
       "0      0  26_05_21-B20  [2272.628996958517, 1685.2591150516498, 837.97...   \n",
       "1      1  26_05_21-B25  [1807.393678506843, 1585.7146585117644, 1094.7...   \n",
       "2      2  26_05_21-B25  [2648.726235342625, 1368.0723135423739, 345.68...   \n",
       "3      3  26_05_21-B25  [2845.1096085383197, 1180.704037335252, 426.91...   \n",
       "4      4  26_05_21-B25  [3192.0335090997633, 1235.4288323372514, 337.1...   \n",
       "\n",
       "               class  size (cm)  \n",
       "0  Sepia officinalis   8.435085  \n",
       "1    Mullus barbatus  16.211420  \n",
       "2    Mullus barbatus  14.422977  \n",
       "3    Mullus barbatus  15.604945  \n",
       "4    Mullus barbatus  14.829357  "
      ]
     },
     "execution_count": 3,
     "metadata": {},
     "output_type": "execute_result"
    }
   ],
   "source": [
    "data.head()"
   ]
  },
  {
   "cell_type": "markdown",
   "id": "32445d8f",
   "metadata": {},
   "source": [
    "#### Checking the number of images that contain fish of class \"Pagrus pagrus\" "
   ]
  },
  {
   "cell_type": "code",
   "execution_count": 46,
   "id": "7a237753",
   "metadata": {},
   "outputs": [
    {
     "name": "stdout",
     "output_type": "stream",
     "text": [
      "There are 166 images of class Pagrus pagrus\n"
     ]
    }
   ],
   "source": [
    "pagrus_images = []\n",
    "\n",
    "for i in range(len(data)):\n",
    "    if data.iloc[i][\"class\"] == \"Pagrus pagrus\":\n",
    "        pagrus_images.append(data.iloc[i][\"file\"])\n",
    "pagrus_images = set(pagrus_images)\n",
    "print(f\"There are {len(pagrus_images)} images of class Pagrus pagrus\")"
   ]
  },
  {
   "cell_type": "markdown",
   "id": "0966f789",
   "metadata": {},
   "source": [
    "#### Checking whether all pagrus images in the deepfish dataset exists in the `data/external/all-pagrus-images` directory or not"
   ]
  },
  {
   "cell_type": "code",
   "execution_count": 52,
   "id": "9c836163",
   "metadata": {},
   "outputs": [
    {
     "name": "stdout",
     "output_type": "stream",
     "text": [
      "17 images in the deepfish dataset of the class Pagrus are not in data/external/all-pagrus-images\n",
      "\n",
      "Missing Images:\n",
      " ['19_04_21-B11', '22_04_21-B53', '20_05_21-B9', '5_05_21-B45', '22_04_21-B26', '20_05_21-B27', '12_04_21-B.3', '24_05_21-B1', '17_05_21-B9', '19_04_21-B27', '23_04_21-B1', '20_05_21-B22', '11_06_21-B1', '18_05_21-B27', '31_05_21-B6', '3_05_21-B25', '13_04_21-B.6']\n"
     ]
    }
   ],
   "source": [
    "all_images = []\n",
    "missing_images = []\n",
    "for image_file in os.listdir(\"../data/external/all-pagrus-images\"):\n",
    "    image_name = os.path.splitext(image_file)[0]\n",
    "    all_images.append(image_name)\n",
    "cond = True\n",
    "for image in pagrus_images:\n",
    "    if image not in all_images:\n",
    "        cond = False\n",
    "        missing_images.append(image)\n",
    "\n",
    "if cond:\n",
    "    print(\"All images in the deepfish dataset of the class Pagrus are in data/external/all-pagrus-images\")\n",
    "else:\n",
    "    print(f\"{len(missing_images)} images in the deepfish dataset of the class Pagrus are not in data/external/all-pagrus-images\\n\")\n",
    "    print(\"Missing Images:\\n\", missing_images)"
   ]
  },
  {
   "cell_type": "markdown",
   "id": "3dee7e3c",
   "metadata": {},
   "source": [
    "#### Moving the missing images to the `data/external/all-pagrus-images` directory"
   ]
  },
  {
   "cell_type": "code",
   "execution_count": 58,
   "id": "352c427f",
   "metadata": {},
   "outputs": [],
   "source": [
    "for image_file in os.listdir(\"../data/external/all-fish-images\"):\n",
    "    image_name = os.path.splitext(image_file)[0]\n",
    "    if image_name in missing_images:\n",
    "        image = cv2.imread(\"../data/external/all-fish-images/\"+image_file)\n",
    "        cv2.imwrite(\"../data/external/all-pagrus-images/\"+image_file, image)"
   ]
  },
  {
   "cell_type": "markdown",
   "id": "4ccb7b00",
   "metadata": {},
   "source": [
    "#### Checking again whether all pagrus images in the deepfish dataset exists in the `data/external/all-pagrus-images` directory or not"
   ]
  },
  {
   "cell_type": "code",
   "execution_count": 59,
   "id": "54eb061c",
   "metadata": {},
   "outputs": [
    {
     "name": "stdout",
     "output_type": "stream",
     "text": [
      "All images in the deepfish dataset of the class Pagrus are in data/external/all-pagrus-images\n"
     ]
    }
   ],
   "source": [
    "all_images = []\n",
    "missing_images = []\n",
    "for image_file in os.listdir(\"../data/external/all-pagrus-images\"):\n",
    "    image_name = os.path.splitext(image_file)[0]\n",
    "    all_images.append(image_name)\n",
    "cond = True\n",
    "for image in pagrus_images:\n",
    "    if image not in all_images:\n",
    "        cond = False\n",
    "        missing_images.append(image)\n",
    "\n",
    "if cond:\n",
    "    print(\"All images in the deepfish dataset of the class Pagrus are in data/external/all-pagrus-images\")\n",
    "else:\n",
    "    print(f\"{len(missing_images)} images in the deepfish dataset of the class Pagrus are not in data/external/all-pagrus-images\\n\")\n",
    "    print(\"Missing Images:\\n\", missing_images)"
   ]
  },
  {
   "cell_type": "code",
   "execution_count": null,
   "id": "580f68ba",
   "metadata": {},
   "outputs": [],
   "source": []
  },
  {
   "cell_type": "code",
   "execution_count": 62,
   "id": "24bbfa98",
   "metadata": {},
   "outputs": [],
   "source": [
    "import cv2\n",
    "import numpy as np\n",
    "from PIL import Image, ImageEnhance, ImageFilter\n",
    "\n",
    "def add_blue_tint(image):\n",
    "    blue_tint = image.copy()\n",
    "    blue_tint[:, :, 0] = cv2.addWeighted(image[:, :, 0], 0.5, np.zeros(image[:, :, 0].shape, image.dtype), 0.5, 50)\n",
    "    return blue_tint\n",
    "\n",
    "def add_wave_distortion(image):\n",
    "    rows, cols = image.shape[:2]\n",
    "    src_points = np.float32([[0, 0], [cols - 1, 0], [0, rows - 1], [cols - 1, rows - 1]])\n",
    "    dst_points = src_points + np.random.uniform(-10, 10, src_points.shape).astype(np.float32)\n",
    "    warp_matrix = cv2.getPerspectiveTransform(src_points, dst_points)\n",
    "    return cv2.warpPerspective(image, warp_matrix, (cols, rows))\n",
    "\n",
    "def add_blur(image):\n",
    "    return cv2.GaussianBlur(image, (15, 15), 0)\n",
    "\n",
    "# Load image pagrus-images-with-water-effect\n",
    "for image_file in os.listdir(\"../data/external/all-pagrus-images\"):\n",
    "    image = cv2.imread(\"../data/external/all-pagrus-images/\"+image_file)\n",
    "    image = cv2.cvtColor(image, cv2.COLOR_BGR2RGB)\n",
    "\n",
    "    # Apply blue tint\n",
    "    image = add_blue_tint(image)\n",
    "\n",
    "    # Apply wave distortion\n",
    "    image = add_wave_distortion(image)\n",
    "\n",
    "    # Apply blur\n",
    "    image = add_blur(image)\n",
    "\n",
    "    # Convert back to BGR for OpenCV\n",
    "    image = cv2.cvtColor(image, cv2.COLOR_RGB2BGR)\n",
    "\n",
    "    # Save the result\n",
    "    cv2.imwrite(\"../data/external/pagrus-images-with-water-effect/\"+image_file, image)\n"
   ]
  },
  {
   "cell_type": "code",
   "execution_count": null,
   "id": "205501c2",
   "metadata": {},
   "outputs": [],
   "source": []
  }
 ],
 "metadata": {
  "kernelspec": {
   "display_name": "ai1",
   "language": "python",
   "name": "ai1"
  },
  "language_info": {
   "codemirror_mode": {
    "name": "ipython",
    "version": 3
   },
   "file_extension": ".py",
   "mimetype": "text/x-python",
   "name": "python",
   "nbconvert_exporter": "python",
   "pygments_lexer": "ipython3",
   "version": "3.9.18"
  }
 },
 "nbformat": 4,
 "nbformat_minor": 5
}
